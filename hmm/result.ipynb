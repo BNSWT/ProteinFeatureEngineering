{
 "cells": [
  {
   "cell_type": "code",
   "execution_count": 17,
   "metadata": {},
   "outputs": [],
   "source": [
    "import csv\n",
    "from Bio import SeqIO\n",
    "import os"
   ]
  },
  {
   "cell_type": "code",
   "execution_count": 18,
   "metadata": {},
   "outputs": [],
   "source": [
    "fasta_base = \"/zhouyuyang/project/ProteinFeatureEngineering/data/fasta/\"\n",
    "txt_base = \"/zhouyuyang/project/ProteinFeatureEngineering/data/hmm_res/\"\n",
    "csv_base = \"/zhouyuyang/project/ProteinFeatureEngineering/data/hmm_csv/\""
   ]
  },
  {
   "cell_type": "code",
   "execution_count": 19,
   "metadata": {},
   "outputs": [],
   "source": [
    "def reformat(fasta_name):\n",
    "    seq_index = SeqIO.index(fasta_base+fasta_name+'.fasta', 'fasta')\n",
    "    \n",
    "    csv_writer = csv.writer(open(csv_base+fasta_name+'.csv', 'w'), delimiter=',', quotechar='\"', quoting=csv.QUOTE_MINIMAL)\n",
    "    csv_writer.writerow(['seq_id', 'template', 'full_e_value', 'domain', 'ali_start', 'ali_end'])\n",
    "    with open(txt_base+fasta_name+'.txt', 'r') as file:\n",
    "        # 遍历每一行\n",
    "        for line in file:\n",
    "            # 忽略注释行以及空行（可选）\n",
    "            if line.startswith('#') or line.strip() == '':\n",
    "                continue\n",
    "            \n",
    "            # 分割行，通常使用空格或制表符作为分隔符\n",
    "            fields = [item for item in line.split() if item!='']\n",
    "            \n",
    "            # 根据HMMscan结果文件的格式，提取需要的信息\n",
    "            seq_id = fields[0]\n",
    "            template = fields[3]\n",
    "                            \n",
    "            full_e_value = fields[6]\n",
    "            # full_score = fields[7]\n",
    "            # full_bias = fields[8]\n",
    "            # domain_c_e_value = fields[11]\n",
    "            # domain_i_e_value = fields[12]\n",
    "            # domain_score = fields[13]\n",
    "            # domain_bias = fields[14]\n",
    "            # hmm_start = fields[15]\n",
    "            # hmm_end = fields[16]\n",
    "            ali_start = fields[17]\n",
    "            ali_end = fields[18]\n",
    "            # env_start = fields[19]\n",
    "            # env_end = fields[20]\n",
    "            # acc = fields[21]\n",
    "            # description = ' '.join(fields[22:])\n",
    "            \n",
    "            # 将提取的信息写入CSV文件\n",
    "            # csv_writer.writerow([target_name, seq_name, full_e_value, full_score, full_bias, domain_c_e_value, domain_i_e_value, domain_score, domain_bias, hmm_start, hmm_end, ali_start, ali_end, env_start, env_end, acc, description])\n",
    "            \n",
    "            sequence = str(seq_index[seq_id].seq)\n",
    "            domain = sequence[int(ali_start):int(ali_end)]\n",
    "            \n",
    "            csv_writer.writerow([seq_id, template, full_e_value, domain, ali_start, ali_end])\n",
    "            \n",
    "            "
   ]
  },
  {
   "cell_type": "code",
   "execution_count": 20,
   "metadata": {},
   "outputs": [
    {
     "name": "stdout",
     "output_type": "stream",
     "text": [
      "reformatting Envelope_glycoprotein_Thogotovirus...\n",
      "reformatting Fusion_glycoprotein_F0 Cynoglossusvirus...\n",
      "reformatting Inner_membrane_protein_Asfarviridae unlabeled...\n",
      "reformatting Major_budded_virus_envelope_Baculoviridae...\n",
      "reformatting Genome_polyprotein_HAV...\n",
      "reformatting Human_papillomavirus unlabeled...\n",
      "reformatting Envelope_glycoprotein_Epsilonretrovirus...\n",
      "reformatting Envelope_glycoprotein_Deltaretrovirus...\n",
      "reformatting Envelope_glycoprotein_Betaretrovirus...\n",
      "reformatting Hemagglutinin_Influenza D virus...\n",
      "reformatting Fusion_glycoprotein_F0_Hoplichthysvirus...\n",
      "reformatting Large_envelope_protein_Hepadnaviridae...\n",
      "reformatting GP64_Baculoviridae...\n",
      "reformatting Envelope_glycoprotein_B_Epstein–Barr virus...\n",
      "reformatting Major_envelope_glycoprotein_Baculoviridae...\n",
      "reformatting Virion_membrane_protein_OPG14_Poxviridae unlabeled...\n",
      "reformatting Envelopment_polyprotein_Bunyavirales...\n",
      "reformatting Fusion_glycoprotein_F0_Pneumoviridae...\n",
      "reformatting Fusion_glycoprotein_F0_Rubulavirinae...\n",
      "reformatting Envelope_glycoprotein_gp95Alpharetrovirus...\n",
      "reformatting Envelope_glycoprotein_Quaranjavirus...\n",
      "reformatting GPC_Bunyavirales...\n",
      "reformatting Envelope_glycoprotein_Filoviridae...\n",
      "reformatting Fusion glycoprotein F0 Metaparamyxovirinae...\n",
      "reformatting Large_envelope_protein_Hepatitis B virus...\n",
      "reformatting Fusion glycoprotein F0 Isavirus...\n",
      "reformatting Fusion_glycoprotein_F0_scoliodonvirus...\n",
      "reformatting Spike_glycoprotein_Coronavirus...\n",
      "reformatting Hemagglutinin_Influenza A virus...\n",
      "reformatting Envelope_glycoprotein_Spumaviruses...\n",
      "reformatting Envelope_glycoprotein_Lentivirus...\n",
      "reformatting Fusion_glycoprotein_F0_Avulavirinae...\n",
      "reformatting Fusion_glycoprotein_F0_Orthoparamyxovirinae...\n",
      "reformatting Hemagglutinin_Influenza B virus...\n",
      "reformatting Envelope_glycoprotein_B_HHV...\n",
      "reformatting Envelope_glycoprotein_Gammaretrovirus...\n",
      "reformatting Structural_polyprotein_Togaviridae...\n",
      "reformatting Hemagglutinin_Influenza C virus...\n",
      "reformatting GP67_Baculoviridae...\n",
      "reformatting Genome_polyprotein_Flaviviridae...\n",
      "reformatting Envelope_glycoprotein_H_HHV...\n",
      "reformatting Glycoprotein_Rhabdoviridae...\n"
     ]
    }
   ],
   "source": [
    "for filename in os.listdir(fasta_base):\n",
    "    if filename.endswith('.fasta'):\n",
    "        fasta_name = filename.split('.')[0]\n",
    "        print(f\"reformatting {fasta_name}...\")\n",
    "        reformat(fasta_name)"
   ]
  }
 ],
 "metadata": {
  "kernelspec": {
   "display_name": "Python 3",
   "language": "python",
   "name": "python3"
  },
  "language_info": {
   "codemirror_mode": {
    "name": "ipython",
    "version": 3
   },
   "file_extension": ".py",
   "mimetype": "text/x-python",
   "name": "python",
   "nbconvert_exporter": "python",
   "pygments_lexer": "ipython3",
   "version": "3.7.5"
  }
 },
 "nbformat": 4,
 "nbformat_minor": 2
}
