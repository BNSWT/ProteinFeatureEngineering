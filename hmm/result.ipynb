{
 "cells": [
  {
   "cell_type": "code",
   "execution_count": 1,
   "metadata": {},
   "outputs": [],
   "source": [
    "import csv\n",
    "from Bio import SeqIO"
   ]
  },
  {
   "cell_type": "code",
   "execution_count": 2,
   "metadata": {},
   "outputs": [],
   "source": [
    "seqs = SeqIO.parse(\"/zhouyuyang/project/ProteinFeatureEngineering/data/fasta/Envelope_glycoprotein_B_Epstein–Barr virus.fasta\", \"fasta\")"
   ]
  },
  {
   "cell_type": "code",
   "execution_count": 4,
   "metadata": {},
   "outputs": [],
   "source": [
    "index = SeqIO.index(\"/zhouyuyang/project/ProteinFeatureEngineering/data/fasta/Envelope_glycoprotein_B_Epstein–Barr virus.fasta\", \"fasta\")"
   ]
  },
  {
   "cell_type": "code",
   "execution_count": 7,
   "metadata": {},
   "outputs": [
    {
     "data": {
      "text/plain": [
       "'MTRRRVLSVVVLLAALACRLGAQTPEQPAPPATTVQPTATRQQTSFPFRVCELSSHGDLFRFSSDIQCPSFGTRENHTEGLLMVFKDNIIPYSFKVRSYTKIVTNILIYNGWYADSVTNRHEEKFSVDSYETDQMDTIYQCYNAVKMTKDGLTRVYVDRDGVNITVNLKPTGGLANGVRRYASQTELYDAPGWLIWTYRTRTTVNCLITDMMAKSNSPFDFFVTTTGQTVEMSPFYDGKNKETFHERADSFHVRTNYKIVDYDNRGTNPQGERRAFLDKGTYTLSWKLENRTAYCPLQHWQTFDSTIATETGKSIHFVTDEGTSSFVTNTTVGIELPDAFKCIEEQVNKTMHEKYEAVQDRYTKGQEAITYFITSGGLLLAWLPLTPRSLATVKNLTELTTPTSSPPSSPSPPAPSAARGSTPAAVLRRRRRDAGNATTPVPPTAPGKSLGTLNNPATVQIQFAYDSLRRQINRMLGDLARAWCLEQKRQNMVLRELTKINPTTVMSSIYGKAVAAKRLGDVISVSQCVPVNQATVTLRKSMRVPGSETMCYSRPLVSFSFINDTKTYEGQLGTDNEIFLTKKMTEVCQATSQYYFQSGNEIHVYNDYHHFKTIELDGIATLQTFISLNTSLIENIDFASLELYSRDEQRASNVFDLEGIFREYNFQAQNIAGLRKDLDNAVSNGRNQFVDGLGELMDSLGSVGQSITNLVSTVGGLFSSLVSGFISFFKNPFGGMLILVLVAGVVILVISLTRRTRQMSQQPVQMLYPGIDELAQQHASGEGPGINPISKTELQAIMLALHEQNQEQKRAAQRAAGPSVASRALQAARDRFPGLRRRRYHDPETAAALLGEAETEF'"
      ]
     },
     "execution_count": 7,
     "metadata": {},
     "output_type": "execute_result"
    }
   ],
   "source": [
    "id = \"sp|P03188|GB_EBVB9\"\n",
    "sequence = index[id].seq\n",
    "str(sequence)"
   ]
  },
  {
   "cell_type": "code",
   "execution_count": null,
   "metadata": {},
   "outputs": [],
   "source": [
    "fasta_base = \"/zhouyuyang/project/ProteinFeatureEngineering/data/fasta\"\n",
    "txt_base = \"/zhouyuyang/project/ProteinFeatureEngineering/data/hmm_res\"\n",
    "csv_base = \"/zhouyuyang/project/ProteinFeatureEngineering/data/hmm_csv\""
   ]
  },
  {
   "cell_type": "code",
   "execution_count": null,
   "metadata": {},
   "outputs": [],
   "source": [
    "def write(fasta_name):\n",
    "    seq_index = SeqIO.index(fasta_base+fasta_name+'.fasta', 'fasta')\n",
    "    \n",
    "    csv_writer = csv.writer(open(csv_base+fasta_name+'.csv', 'w'), delimiter=',', quotechar='\"', quoting=csv.QUOTE_MINIMAL)\n",
    "    \n",
    "    with open(txt_base+fasta_name+'.txt', 'r') as file:\n",
    "        # 遍历每一行\n",
    "        for line in file:\n",
    "            # 忽略注释行以及空行（可选）\n",
    "            if line.startswith('#') or line.strip() == '':\n",
    "                continue\n",
    "            \n",
    "            # 分割行，通常使用空格或制表符作为分隔符\n",
    "            fields = [item for item in line.split() if item!='']\n",
    "            \n",
    "            # 根据HMMscan结果文件的格式，提取需要的信息\n",
    "            seq_id = fields[0]\n",
    "            template = fields[3]\n",
    "                            \n",
    "            full_e_value = fields[6]\n",
    "            # full_score = fields[7]\n",
    "            # full_bias = fields[8]\n",
    "            # domain_c_e_value = fields[11]\n",
    "            # domain_i_e_value = fields[12]\n",
    "            # domain_score = fields[13]\n",
    "            # domain_bias = fields[14]\n",
    "            hmm_start = fields[15]\n",
    "            hmm_end = fields[16]\n",
    "            ali_start = fields[17]\n",
    "            ali_end = fields[18]\n",
    "            # env_start = fields[19]\n",
    "            # env_end = fields[20]\n",
    "            # acc = fields[21]\n",
    "            # description = ' '.join(fields[22:])\n",
    "            \n",
    "            # 将提取的信息写入CSV文件\n",
    "            # csv_writer.writerow([target_name, seq_name, full_e_value, full_score, full_bias, domain_c_e_value, domain_i_e_value, domain_score, domain_bias, hmm_start, hmm_end, ali_start, ali_end, env_start, env_end, acc, description])\n",
    "            \n",
    "            sequence = str(seq_index[seq_id].seq)\n",
    "            hmm_domain = sequence[int(hmm_start):int(hmm_end)]\n",
    "            ali_domain = sequence[int(ali_start):int(ali_end)]\n",
    "            \n",
    "            csv_writer.writerow([seq_id, template, full_e_value, hmm_domain, hmm_start, hmm_end, ali_domain, ali_start, ali_end])"
   ]
  }
 ],
 "metadata": {
  "kernelspec": {
   "display_name": "Python 3",
   "language": "python",
   "name": "python3"
  },
  "language_info": {
   "codemirror_mode": {
    "name": "ipython",
    "version": 3
   },
   "file_extension": ".py",
   "mimetype": "text/x-python",
   "name": "python",
   "nbconvert_exporter": "python",
   "pygments_lexer": "ipython3",
   "version": "3.7.5"
  }
 },
 "nbformat": 4,
 "nbformat_minor": 2
}
