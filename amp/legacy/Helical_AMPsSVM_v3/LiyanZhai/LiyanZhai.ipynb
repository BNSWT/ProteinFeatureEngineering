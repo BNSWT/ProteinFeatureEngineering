{
 "cells": [
  {
   "cell_type": "code",
   "execution_count": null,
   "metadata": {},
   "outputs": [],
   "source": [
    "import pandas as pd\n",
    "import numpy as np\n",
    "import matplotlib.pyplot as plt\n",
    "import random"
   ]
  },
  {
   "cell_type": "code",
   "execution_count": null,
   "metadata": {},
   "outputs": [],
   "source": [
    "# input\n",
    "target_seq=\"GIIGGIGGGIGGIIGGIGGG\"\n",
    "change_seqpos=[2,3,6,10,13,14,17] # from 1 \n",
    "fix_seqpos=[]"
   ]
  },
  {
   "cell_type": "code",
   "execution_count": null,
   "metadata": {},
   "outputs": [],
   "source": [
    "resi_positive=[\"R\",\"H\",\"K\"]\n",
    "resi_negative=[\"D\",\"E\"]\n",
    "resi_polar=[\"S\",\"T\",\"N\",\"Q\"]\n",
    "resi_hydrophobic=[\"A\",\"V\",\"I\",\"L\",\"M\",\"F\",\"Y\",\"W\"]"
   ]
  },
  {
   "cell_type": "code",
   "execution_count": null,
   "metadata": {},
   "outputs": [],
   "source": [
    "# input preprocess\n",
    "target_seq=np.array(list(target_seq))\n",
    "change_seqpos=np.array(change_seqpos)-1\n",
    "change_seqpos.astype(int)\n",
    "fix_seqpos=np.array(fix_seqpos)-1\n",
    "change_seqpos=np.setdiff1d(change_seqpos,fix_seqpos)"
   ]
  },
  {
   "cell_type": "code",
   "execution_count": null,
   "metadata": {},
   "outputs": [],
   "source": [
    "def generate_random_array(filter, change_seqpos):\n",
    "    ''' \n",
    "    Randomly generate an array of specified length\n",
    "    filter: Alternative mutation sequences\n",
    "    change_seqpos: seqpos needed to change\n",
    "    '''\n",
    "    random_array = random.choices(filter, k=len(change_seqpos))\n",
    "    return random_array\n",
    "\n",
    "def output_seq(seq,output=False):\n",
    "    \"\"\" \n",
    "    output the mutated sequence \n",
    "    seq: sequence needed to be output\n",
    "    output: if or not output to a txt file\n",
    "    \"\"\"\n",
    "    process_seq=[]\n",
    "    for i in range(len(seq)):\n",
    "        process_seq.append(''.join(seq[i]))\n",
    "    \n",
    "    if output==True:\n",
    "        np.savetxt(\"result.txt\",process_seq,\"%s\")\n",
    "\n",
    "    return process_seq\n",
    "\n",
    "def genseq(filter,change_seqpos,target_seq):\n",
    "    ''' \n",
    "    return: generated sequence\n",
    "    '''\n",
    "    tmpseqs=generate_random_array(filter=filter,change_seqpos=change_seqpos)\n",
    "    target_seq[change_seqpos]=tmpseqs\n",
    "    return ''.join(target_seq)\n",
    "\n",
    "genseq(resi_hydrophobic,change_seqpos,target_seq)\n"
   ]
  },
  {
   "cell_type": "code",
   "execution_count": null,
   "metadata": {},
   "outputs": [
    {
     "data": {
      "text/plain": [
       "'GVYGGMGGGYGGAVGGMGGG'"
      ]
     },
     "metadata": {},
     "output_type": "display_data"
    }
   ],
   "source": [
    "genseq(resi_hydrophobic,change_seqpos,target_seq)"
   ]
  }
 ],
 "metadata": {
  "language_info": {
   "name": "python"
  },
  "orig_nbformat": 4
 },
 "nbformat": 4,
 "nbformat_minor": 2
}
